{
  "nbformat": 4,
  "nbformat_minor": 0,
  "metadata": {
    "colab": {
      "provenance": [],
      "collapsed_sections": []
    },
    "kernelspec": {
      "name": "python3",
      "display_name": "Python 3"
    },
    "language_info": {
      "name": "python"
    }
  },
  "cells": [
    {
      "cell_type": "code",
      "execution_count": 48,
      "metadata": {
        "colab": {
          "base_uri": "https://localhost:8080/"
        },
        "id": "UiTXLvzcU08z",
        "outputId": "8773989d-b190-4839-f3b7-b28720b99ae2"
      },
      "outputs": [
        {
          "output_type": "stream",
          "name": "stdout",
          "text": [
            "Drive already mounted at /content/drive; to attempt to forcibly remount, call drive.mount(\"/content/drive\", force_remount=True).\n"
          ]
        }
      ],
      "source": [
        "import tensorflow as tf \n",
        "import numpy as np\n",
        "import matplotlib.pyplot as plt\n",
        "import tensorflow.keras.layers as tfl\n",
        "import pandas as pd\n",
        "from google.colab import drive \n",
        "drive.mount('/content/drive')"
      ]
    },
    {
      "cell_type": "code",
      "source": [
        "!mkdir -p \"/content/drive/My Drive/MNIST_Digit_Classification_models\""
      ],
      "metadata": {
        "id": "r2wNjIbuU_Tx"
      },
      "execution_count": 49,
      "outputs": []
    },
    {
      "cell_type": "code",
      "source": [
        "#Loading in dataset\n",
        "\n",
        "(x_train, y_train), (x_test, y_test)= tf.keras.datasets.mnist.load_data()"
      ],
      "metadata": {
        "id": "vn7pkfX4U_qf"
      },
      "execution_count": 50,
      "outputs": []
    },
    {
      "cell_type": "code",
      "source": [
        "#Normalizing inputs \n",
        "x_train, x_test  = x_train / 255., x_test / 255."
      ],
      "metadata": {
        "id": "6cJBxY8kVNoI"
      },
      "execution_count": 51,
      "outputs": []
    },
    {
      "cell_type": "code",
      "source": [
        "#Looking at our data\n",
        "\n",
        "image_index = 1\n",
        "plt.imshow(x_train[image_index])"
      ],
      "metadata": {
        "colab": {
          "base_uri": "https://localhost:8080/",
          "height": 282
        },
        "id": "bSfAI1tAV3Dr",
        "outputId": "88896fc2-6f08-4fc8-c114-79f155ef6b2c"
      },
      "execution_count": 52,
      "outputs": [
        {
          "output_type": "execute_result",
          "data": {
            "text/plain": [
              "<matplotlib.image.AxesImage at 0x7effad296310>"
            ]
          },
          "metadata": {},
          "execution_count": 52
        },
        {
          "output_type": "display_data",
          "data": {
            "text/plain": [
              "<Figure size 432x288 with 1 Axes>"
            ],
            "image/png": "[encoded data removed]"
          },
          "metadata": {
            "needs_background": "light"
          }
        }
      ]
    },
    {
      "cell_type": "code",
      "source": [
        "x_train = x_train.reshape((-1, 28, 28, 1))\n",
        "x_test = x_test.reshape((-1, 28, 28, 1))"
      ],
      "metadata": {
        "id": "2P_fp4HCjGER"
      },
      "execution_count": 70,
      "outputs": []
    },
    {
      "cell_type": "code",
      "source": [
        "#Dimensions of matrices\n",
        "\n",
        "print(\"X_train shape\", x_train.shape)\n",
        "print(\"X_test shape\", x_test.shape)\n",
        "print(\"y_train shape\", y_train.shape)\n",
        "print(\"y_test shape\", y_test.shape)"
      ],
      "metadata": {
        "colab": {
          "base_uri": "https://localhost:8080/"
        },
        "id": "rmLhQj2oWXpw",
        "outputId": "e0ee5753-f1f1-455e-dfb0-10d164151ebf"
      },
      "execution_count": 71,
      "outputs": [
        {
          "output_type": "stream",
          "name": "stdout",
          "text": [
            "X_train shape (60000, 28, 28, 1)\n",
            "X_test shape (10000, 28, 28, 1)\n",
            "y_train shape (60000,)\n",
            "y_test shape (10000,)\n"
          ]
        }
      ]
    },
    {
      "cell_type": "code",
      "source": [
        "print(y_train[4])"
      ],
      "metadata": {
        "colab": {
          "base_uri": "https://localhost:8080/"
        },
        "id": "Z8f076eWb_Io",
        "outputId": "6a0a55fc-c94c-47f9-c64a-ac6a46c33aec"
      },
      "execution_count": 72,
      "outputs": [
        {
          "output_type": "stream",
          "name": "stdout",
          "text": [
            "9\n"
          ]
        }
      ]
    },
    {
      "cell_type": "code",
      "source": [
        "#Designing the neural network architecture \n",
        "\n",
        "def conv_model(input_shape):\n",
        "\n",
        "  model_input = tf.keras.Input(shape = input_shape)\n",
        "  Z1 = tfl.Conv2D(filters = 5, kernel_size = (2, 2), padding = 'same', strides = (1, 1))(model_input)\n",
        "  Z1 = tfl.BatchNormalization()(Z1)\n",
        "  A1 = tfl.ReLU()(Z1)\n",
        "  A1 = tfl.BatchNormalization()(A1)\n",
        "  P1 = tfl.MaxPool2D(pool_size = (2, 2), padding = 'same', strides = (2, 2))(A1)\n",
        "  P1 = tfl.Dropout(0.25)(P1)\n",
        "\n",
        "  # Z2 = tfl.Conv2D(filters = 10, kernel_size = (2, 2), padding = 'same', strides = (1, 1))(P1)\n",
        "  # Z2 = tfl.BatchNormalization()(Z2)\n",
        "  # A2 = tfl.ReLU()(Z2)\n",
        "  # A2 = tfl.BatchNormalization()(A2)\n",
        "  # P2 = tfl.MaxPool2D(pool_size = (2, 2), padding = 'same', strides = (2, 2))(A2)\n",
        "  # P2 = tfl.Dropout(0.25)(P2)\n",
        "\n",
        "  # Z3 = tfl.Conv2D(filters = 128, kernel_size = (2, 2), padding = 'same', strides = (1, 1))(P2)\n",
        "  # Z3 = tfl.BatchNormalization()(Z3)\n",
        "  # A3 = tfl.ReLU()(Z3)\n",
        "  # A3 = tfl.BatchNormalization()(A3)\n",
        "  # P3 = tfl.MaxPool2D(pool_size = (2, 2), padding = 'same', strides = (2, 2))(A3)\n",
        "\n",
        "  # Z4 = tfl.Conv2D(filters = 256, kernel_size = (2, 2), padding = 'same', strides = (1, 1))(P3)\n",
        "  # Z4 = tfl.BatchNormalization()(Z4)\n",
        "  # A4 = tfl.ReLU()(Z4)\n",
        "  # A4 = tfl.BatchNormalization()(A4)\n",
        "  # P4 = tfl.MaxPool2D(pool_size = (2, 2), padding = 'same', strides = (2, 2))(A4)\n",
        "\n",
        "  F = tfl.Flatten()(P1)\n",
        "  D1 = tfl.Dense(units = 100, activation = 'relu')(F)\n",
        "  outputs = tfl.Dense(units = 10, activation = 'softmax')(D1)\n",
        "  model = tf.keras.Model(inputs = model_input, outputs = outputs)\n",
        "  return model\n",
        "                               "
      ],
      "metadata": {
        "id": "829j7CPAY7rf"
      },
      "execution_count": 82,
      "outputs": []
    },
    {
      "cell_type": "code",
      "source": [
        "#Compiling the model \n",
        "\n",
        "model = conv_model((28, 28, 1))\n",
        "model.compile(optimizer = 'adam', loss = 'sparse_categorical_crossentropy', metrics = ['accuracy'])"
      ],
      "metadata": {
        "id": "3KHZCT6eif4R"
      },
      "execution_count": 83,
      "outputs": []
    },
    {
      "cell_type": "code",
      "source": [
        "#Training the model\n",
        "\n",
        "train_dataset = tf.data.Dataset.from_tensor_slices((x_train, y_train)).batch(64)\n",
        "test_dataset = tf.data.Dataset.from_tensor_slices((x_test, y_test)).batch(64)\n",
        "\n",
        "history = model.fit(train_dataset, epochs = 4, validation_data = test_dataset)"
      ],
      "metadata": {
        "colab": {
          "base_uri": "https://localhost:8080/"
        },
        "id": "npiiQLv5iiFO",
        "outputId": "e3640d57-40a4-48b5-fbfa-53b6af0fe65a"
      },
      "execution_count": 84,
      "outputs": [
        {
          "output_type": "stream",
          "name": "stdout",
          "text": [
            "Epoch 1/4\n",
            "938/938 [==============================] - 40s 42ms/step - loss: 0.2694 - accuracy: 0.9176 - val_loss: 0.1423 - val_accuracy: 0.9520\n",
            "Epoch 2/4\n",
            "938/938 [==============================] - 39s 41ms/step - loss: 0.1194 - accuracy: 0.9627 - val_loss: 0.0894 - val_accuracy: 0.9706\n",
            "Epoch 3/4\n",
            "938/938 [==============================] - 41s 43ms/step - loss: 0.0914 - accuracy: 0.9717 - val_loss: 0.0707 - val_accuracy: 0.9765\n",
            "Epoch 4/4\n",
            "938/938 [==============================] - 39s 42ms/step - loss: 0.0735 - accuracy: 0.9762 - val_loss: 0.0771 - val_accuracy: 0.9749\n"
          ]
        }
      ]
    },
    {
      "cell_type": "code",
      "source": [
        "model.save(\"/content/drive/My Drive/MNIST_Digit_Classification_models/model2.h5\")"
      ],
      "metadata": {
        "id": "N_Z-I4Z5hJWI"
      },
      "execution_count": 87,
      "outputs": []
    }
  ]
}