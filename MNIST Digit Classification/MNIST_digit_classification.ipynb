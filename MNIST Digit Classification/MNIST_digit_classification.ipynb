{
  "nbformat": 4,
  "nbformat_minor": 0,
  "metadata": {
    "colab": {
      "provenance": [],
      "collapsed_sections": []
    },
    "kernelspec": {
      "name": "python3",
      "display_name": "Python 3"
    },
    "language_info": {
      "name": "python"
    }
  },
  "cells": [
    {
      "cell_type": "code",
      "execution_count": 48,
      "metadata": {
        "colab": {
          "base_uri": "https://localhost:8080/"
        },
        "id": "UiTXLvzcU08z",
        "outputId": "8773989d-b190-4839-f3b7-b28720b99ae2"
      },
      "outputs": [
        {
          "output_type": "stream",
          "name": "stdout",
          "text": [
            "Drive already mounted at /content/drive; to attempt to forcibly remount, call drive.mount(\"/content/drive\", force_remount=True).\n"
          ]
        }
      ],
      "source": [
        "import tensorflow as tf \n",
        "import numpy as np\n",
        "import matplotlib.pyplot as plt\n",
        "import tensorflow.keras.layers as tfl\n",
        "import pandas as pd\n",
        "from google.colab import drive \n",
        "drive.mount('/content/drive')"
      ]
    },
    {
      "cell_type": "code",
      "source": [
        "!mkdir -p \"/content/drive/My Drive/MNIST_Digit_Classification_models\""
      ],
      "metadata": {
        "id": "r2wNjIbuU_Tx"
      },
      "execution_count": 49,
      "outputs": []
    },
    {
      "cell_type": "code",
      "source": [
        "#Loading in dataset\n",
        "\n",
        "(x_train, y_train), (x_test, y_test)= tf.keras.datasets.mnist.load_data()"
      ],
      "metadata": {
        "id": "vn7pkfX4U_qf"
      },
      "execution_count": 50,
      "outputs": []
    },
    {
      "cell_type": "code",
      "source": [
        "#Normalizing inputs \n",
        "x_train, x_test  = x_train / 255., x_test / 255."
      ],
      "metadata": {
        "id": "6cJBxY8kVNoI"
      },
      "execution_count": 51,
      "outputs": []
    },
    {
      "cell_type": "code",
      "source": [
        "#Looking at our data\n",
        "\n",
        "image_index = 1\n",
        "plt.imshow(x_train[image_index])"
      ],
      "metadata": {
        "colab": {
          "base_uri": "https://localhost:8080/",
          "height": 282
        },
        "id": "bSfAI1tAV3Dr",
        "outputId": "88896fc2-6f08-4fc8-c114-79f155ef6b2c"
      },
      "execution_count": 52,
      "outputs": [
        {
          "output_type": "execute_result",
          "data": {
            "text/plain": [
              "<matplotlib.image.AxesImage at 0x7effad296310>"
            ]
          },
          "metadata": {},
          "execution_count": 52
        },
        {
          "output_type": "display_data",
          "data": {
            "text/plain": [
              "<Figure size 432x288 with 1 Axes>"
            ],
            "image/png": "[encoded data removed]"
          },
          "metadata": {
            "needs_background": "light"
          }
        }
      ]
    },
    {
      "cell_type": "code",
      "source": [
        "#Dimensions of matrices\n",
        "\n",
        "print(\"X_train shape\", x_train.shape)\n",
        "print(\"X_test shape\", x_test.shape)\n",
        "print(\"y_train shape\", y_train.shape)\n",
        "print(\"y_test shape\", y_test.shape)"
      ],
      "metadata": {
        "colab": {
          "base_uri": "https://localhost:8080/"
        },
        "id": "rmLhQj2oWXpw",
        "outputId": "f413d109-05f9-4633-d55a-2538340cf242"
      },
      "execution_count": 53,
      "outputs": [
        {
          "output_type": "stream",
          "name": "stdout",
          "text": [
            "X_train shape (60000, 28, 28)\n",
            "X_test shape (10000, 28, 28)\n",
            "y_train shape (60000,)\n",
            "y_test shape (10000,)\n"
          ]
        }
      ]
    },
    {
      "cell_type": "code",
      "source": [
        "print(y_train[4])"
      ],
      "metadata": {
        "colab": {
          "base_uri": "https://localhost:8080/"
        },
        "id": "Z8f076eWb_Io",
        "outputId": "2417235d-a100-49a3-8d62-27bda3a69a5a"
      },
      "execution_count": 54,
      "outputs": [
        {
          "output_type": "stream",
          "name": "stdout",
          "text": [
            "9\n"
          ]
        }
      ]
    },
    {
      "cell_type": "code",
      "source": [
        "#Designing network architecutre, compile model, train model\n",
        "\n",
        "model_input = tf.keras.Input(shape = (28, 28))\n",
        "F = tfl.Flatten()(model_input)\n",
        "D1 = tfl.Dense(units = 128, activation = 'relu')(F)\n",
        "D2 = tfl.Dense(units = 64, activation = 'relu')(D1)\n",
        "outputs = tfl.Dense(units = 10, activation = 'softmax')(D2)\n",
        "\n",
        "model = tf.keras.Model(inputs = model_input, outputs = outputs)\n",
        "\n",
        "model.compile(optimizer = 'adam', loss = 'sparse_categorical_crossentropy', metrics = ['accuracy'])\n",
        "\n",
        "train_dataset = tf.data.Dataset.from_tensor_slices((x_train, y_train)).batch(64)\n",
        "test_dataset = tf.data.Dataset.from_tensor_slices((x_test, y_test)).batch(64)\n",
        "\n",
        "history = model.fit(train_dataset, epochs = 4, validation_data = test_dataset)"
      ],
      "metadata": {
        "colab": {
          "base_uri": "https://localhost:8080/"
        },
        "id": "829j7CPAY7rf",
        "outputId": "61806191-f0c8-4510-a4fa-185d7874de15"
      },
      "execution_count": 57,
      "outputs": [
        {
          "output_type": "stream",
          "name": "stdout",
          "text": [
            "Epoch 1/4\n",
            "938/938 [==============================] - 5s 4ms/step - loss: 0.2890 - accuracy: 0.9175 - val_loss: 0.1583 - val_accuracy: 0.9503\n",
            "Epoch 2/4\n",
            "938/938 [==============================] - 4s 4ms/step - loss: 0.1244 - accuracy: 0.9626 - val_loss: 0.1219 - val_accuracy: 0.9620\n",
            "Epoch 3/4\n",
            "938/938 [==============================] - 4s 4ms/step - loss: 0.0852 - accuracy: 0.9750 - val_loss: 0.1100 - val_accuracy: 0.9643\n",
            "Epoch 4/4\n",
            "938/938 [==============================] - 4s 4ms/step - loss: 0.0625 - accuracy: 0.9818 - val_loss: 0.0977 - val_accuracy: 0.9703\n"
          ]
        }
      ]
    },
    {
      "cell_type": "code",
      "source": [
        "def check(num):\n",
        "  print(\"Predicted class:\", np.argmax(model.predict(x_test)[num]))\n",
        "  print(\"Actual class:\", y_test[num])\n",
        "  plt.figure()\n",
        "  plt.imshow(x_test[num])\n",
        "  plt.show()"
      ],
      "metadata": {
        "id": "sXgzmbkpdSOI"
      },
      "execution_count": 61,
      "outputs": []
    },
    {
      "cell_type": "code",
      "source": [
        "check(90)"
      ],
      "metadata": {
        "colab": {
          "base_uri": "https://localhost:8080/",
          "height": 300
        },
        "id": "HQqq3of4fSb5",
        "outputId": "beae52ce-dd84-4ed9-b485-9b399b781ac8"
      },
      "execution_count": 62,
      "outputs": [
        {
          "output_type": "stream",
          "name": "stdout",
          "text": [
            "Predicted class: 3\n",
            "Actual class: 3\n"
          ]
        },
        {
          "output_type": "display_data",
          "data": {
            "text/plain": [
              "<Figure size 432x288 with 1 Axes>"
            ],
            "image/png": "[encoded data removed]"
          },
          "metadata": {
            "needs_background": "light"
          }
        }
      ]
    },
    {
      "cell_type": "code",
      "source": [
        "model.save(\"/content/drive/My Drive/MNIST_Digit_Classification_models/model1.h5\")"
      ],
      "metadata": {
        "id": "N_Z-I4Z5hJWI"
      },
      "execution_count": 63,
      "outputs": []
    }
  ]
}