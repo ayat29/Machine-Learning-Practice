{
  "nbformat": 4,
  "nbformat_minor": 0,
  "metadata": {
    "colab": {
      "provenance": []
    },
    "kernelspec": {
      "name": "python3",
      "display_name": "Python 3"
    },
    "language_info": {
      "name": "python"
    }
  },
  "cells": [
    {
      "cell_type": "code",
      "execution_count": 43,
      "metadata": {
        "id": "IVZhrpzQ9-zk"
      },
      "outputs": [],
      "source": [
        "import tensorflow as tf \n",
        "import matplotlib.pyplot as plt \n",
        "import tensorflow.keras.layers as tfl\n",
        "import numpy as np\n",
        "import pandas as pd"
      ]
    },
    {
      "cell_type": "code",
      "source": [
        "(x_train, y_train), (x_test, y_test) = tf.keras.datasets.fashion_mnist.load_data()"
      ],
      "metadata": {
        "id": "Tw1trzIe-Tnk"
      },
      "execution_count": 36,
      "outputs": []
    },
    {
      "cell_type": "code",
      "source": [
        "x_train, x_test = x_train / 255., x_test / 255.\n"
      ],
      "metadata": {
        "id": "8o9rfBuw-lHJ"
      },
      "execution_count": 37,
      "outputs": []
    },
    {
      "cell_type": "code",
      "source": [
        "plt.imshow(x_train[0])"
      ],
      "metadata": {
        "colab": {
          "base_uri": "https://localhost:8080/",
          "height": 282
        },
        "id": "lrYZBe5l-5q2",
        "outputId": "9ab7407e-93e8-48cf-9dbe-3f5fe57b53f5"
      },
      "execution_count": 38,
      "outputs": [
        {
          "output_type": "execute_result",
          "data": {
            "text/plain": [
              "<matplotlib.image.AxesImage at 0x7fa3b826d590>"
            ]
          },
          "metadata": {},
          "execution_count": 38
        },
        {
          "output_type": "display_data",
          "data": {
            "text/plain": [
              "<Figure size 432x288 with 1 Axes>"
            ],
            "image/png": "[encoded data removed]"
          },
          "metadata": {
            "needs_background": "light"
          }
        }
      ]
    },
    {
      "cell_type": "code",
      "source": [
        "x_train = x_train.reshape((-1, 28, 28, 1))\n",
        "x_test = x_test.reshape((-1, 28, 28, 1))\n",
        "\n",
        "print(x_train.shape)\n",
        "print(x_test.shape)\n",
        "print(y_train.shape)\n",
        "print(y_test.shape)"
      ],
      "metadata": {
        "colab": {
          "base_uri": "https://localhost:8080/"
        },
        "id": "GGsRKrElApU2",
        "outputId": "d12cc80b-9f8d-43cb-dd2d-efeea5168345"
      },
      "execution_count": 39,
      "outputs": [
        {
          "output_type": "stream",
          "name": "stdout",
          "text": [
            "(60000, 28, 28, 1)\n",
            "(10000, 28, 28, 1)\n",
            "(60000,)\n",
            "(10000,)\n"
          ]
        }
      ]
    },
    {
      "cell_type": "code",
      "source": [
        "def conv_model(input_shape):\n",
        "  Z0 = tf.keras.Input(shape = input_shape)\n",
        "\n",
        "  Z1 = tfl.Conv2D(filters = 32, kernel_size = (3, 3), strides = (1, 1), padding = 'same')(Z0)\n",
        "  A1 = tfl.ReLU()(Z1)\n",
        "  B1 = tfl.BatchNormalization()(A1)\n",
        "  Z1_2 = tfl.Conv2D(filters = 32, kernel_size = (3, 3), strides = (1, 1), padding = 'same')(B1)\n",
        "  A1_2 = tfl.ReLU()(Z1_2)\n",
        "  B1_2 = tfl.BatchNormalization()(A1_2)\n",
        "  Dr1 = tfl.Dropout(0.25)(B1)\n",
        "  P1 = tfl.MaxPool2D(pool_size = (2, 2))(Dr1)\n",
        "\n",
        "  Z2 = tfl.Conv2D(filters = 64, kernel_size = (3, 3), strides = (1, 1), padding = 'same')(P1)\n",
        "  A2 = tfl.ReLU()(Z2)\n",
        "  B2 = tfl.BatchNormalization()(A2)\n",
        "  Dr2 = tfl.Dropout(0.25)(B2)\n",
        "  P2 = tfl.MaxPool2D(pool_size = (2, 2))(Dr2)\n",
        "\n",
        "  # Z3 = tfl.Conv2D(filters = 20, kernel_size = (2, 2), strides = (1, 1), padding = 'same')(P2)\n",
        "  # A3 = tfl.ReLU()(Z3)\n",
        "  # B3 = tfl.BatchNormalization()(A3)\n",
        "  # Dr3 = tfl.Dropout(0.25)(B3)\n",
        "\n",
        "  F = tfl.Flatten()(P2)\n",
        "  D1 = tfl.Dense(units = 512, activation = 'relu')(F)\n",
        "  Dr3 = tfl.Dropout(0.5)(D1)\n",
        "  D2 = tfl.Dense(units = 128, activation = 'relu')(Dr3)\n",
        "  Dr4 = tfl.Dropout(0.5)(D2)\n",
        "  outputs = tfl.Dense(units = 10, activation = 'softmax')(Dr4)\n",
        "\n",
        "  model = tf.keras.Model(inputs = Z0, outputs = outputs)\n",
        "  return model"
      ],
      "metadata": {
        "id": "uE4nvUjv-_H_"
      },
      "execution_count": 80,
      "outputs": []
    },
    {
      "cell_type": "code",
      "source": [
        "model = conv_model((28, 28, 1))\n",
        "model.compile(optimizer = 'adam', loss = 'sparse_categorical_crossentropy', metrics = ['accuracy'])"
      ],
      "metadata": {
        "id": "eWh95XG9AcSo"
      },
      "execution_count": 81,
      "outputs": []
    },
    {
      "cell_type": "code",
      "source": [
        "model.summary()"
      ],
      "metadata": {
        "colab": {
          "base_uri": "https://localhost:8080/"
        },
        "id": "Ino3vmlLF1iB",
        "outputId": "d8a3d464-a479-4f1d-9cb2-e7f47776f489"
      },
      "execution_count": 82,
      "outputs": [
        {
          "output_type": "stream",
          "name": "stdout",
          "text": [
            "Model: \"model_13\"\n",
            "_________________________________________________________________\n",
            " Layer (type)                Output Shape              Param #   \n",
            "=================================================================\n",
            " input_17 (InputLayer)       [(None, 28, 28, 1)]       0         \n",
            "                                                                 \n",
            " conv2d_22 (Conv2D)          (None, 28, 28, 32)        320       \n",
            "                                                                 \n",
            " re_lu_22 (ReLU)             (None, 28, 28, 32)        0         \n",
            "                                                                 \n",
            " batch_normalization_22 (Bat  (None, 28, 28, 32)       128       \n",
            " chNormalization)                                                \n",
            "                                                                 \n",
            " dropout_34 (Dropout)        (None, 28, 28, 32)        0         \n",
            "                                                                 \n",
            " max_pooling2d_20 (MaxPoolin  (None, 14, 14, 32)       0         \n",
            " g2D)                                                            \n",
            "                                                                 \n",
            " conv2d_24 (Conv2D)          (None, 14, 14, 64)        18496     \n",
            "                                                                 \n",
            " re_lu_24 (ReLU)             (None, 14, 14, 64)        0         \n",
            "                                                                 \n",
            " batch_normalization_24 (Bat  (None, 14, 14, 64)       256       \n",
            " chNormalization)                                                \n",
            "                                                                 \n",
            " dropout_35 (Dropout)        (None, 14, 14, 64)        0         \n",
            "                                                                 \n",
            " max_pooling2d_21 (MaxPoolin  (None, 7, 7, 64)         0         \n",
            " g2D)                                                            \n",
            "                                                                 \n",
            " flatten_15 (Flatten)        (None, 3136)              0         \n",
            "                                                                 \n",
            " dense_26 (Dense)            (None, 512)               1606144   \n",
            "                                                                 \n",
            " dropout_36 (Dropout)        (None, 512)               0         \n",
            "                                                                 \n",
            " dense_27 (Dense)            (None, 128)               65664     \n",
            "                                                                 \n",
            " dropout_37 (Dropout)        (None, 128)               0         \n",
            "                                                                 \n",
            " dense_28 (Dense)            (None, 10)                1290      \n",
            "                                                                 \n",
            "=================================================================\n",
            "Total params: 1,692,298\n",
            "Trainable params: 1,692,106\n",
            "Non-trainable params: 192\n",
            "_________________________________________________________________\n"
          ]
        }
      ]
    },
    {
      "cell_type": "code",
      "source": [
        "train_data = tf.data.Dataset.from_tensor_slices((x_train, y_train)).batch(64)\n",
        "test_data = tf.data.Dataset.from_tensor_slices((x_test, y_test)).batch(64)\n",
        "\n",
        "history = model.fit(train_data, epochs = 10, validation_data = test_data)"
      ],
      "metadata": {
        "colab": {
          "base_uri": "https://localhost:8080/"
        },
        "id": "QFTUv2RPBaw8",
        "outputId": "dffcc829-5ed2-4b43-b8ec-e54a1415930d"
      },
      "execution_count": 83,
      "outputs": [
        {
          "output_type": "stream",
          "name": "stdout",
          "text": [
            "Epoch 1/10\n",
            "938/938 [==============================] - 147s 156ms/step - loss: 0.6963 - accuracy: 0.7652 - val_loss: 0.4344 - val_accuracy: 0.8452\n",
            "Epoch 2/10\n",
            "938/938 [==============================] - 143s 152ms/step - loss: 0.4171 - accuracy: 0.8568 - val_loss: 0.3435 - val_accuracy: 0.8821\n",
            "Epoch 3/10\n",
            "938/938 [==============================] - 143s 153ms/step - loss: 0.3510 - accuracy: 0.8783 - val_loss: 0.3233 - val_accuracy: 0.8846\n",
            "Epoch 4/10\n",
            "938/938 [==============================] - 143s 152ms/step - loss: 0.3239 - accuracy: 0.8861 - val_loss: 0.3811 - val_accuracy: 0.8693\n",
            "Epoch 5/10\n",
            "938/938 [==============================] - 144s 153ms/step - loss: 0.3034 - accuracy: 0.8938 - val_loss: 0.3227 - val_accuracy: 0.8887\n",
            "Epoch 6/10\n",
            "938/938 [==============================] - 144s 153ms/step - loss: 0.2855 - accuracy: 0.9003 - val_loss: 0.2984 - val_accuracy: 0.9017\n",
            "Epoch 7/10\n",
            "938/938 [==============================] - 145s 154ms/step - loss: 0.2699 - accuracy: 0.9063 - val_loss: 0.2745 - val_accuracy: 0.9051\n",
            "Epoch 8/10\n",
            "938/938 [==============================] - 143s 152ms/step - loss: 0.2583 - accuracy: 0.9096 - val_loss: 0.2975 - val_accuracy: 0.9074\n",
            "Epoch 9/10\n",
            "938/938 [==============================] - 146s 156ms/step - loss: 0.2466 - accuracy: 0.9132 - val_loss: 0.4455 - val_accuracy: 0.8721\n",
            "Epoch 10/10\n",
            "938/938 [==============================] - 144s 154ms/step - loss: 0.2379 - accuracy: 0.9161 - val_loss: 0.3491 - val_accuracy: 0.8991\n"
          ]
        }
      ]
    },
    {
      "cell_type": "code",
      "source": [
        "df_loss_acc = pd.DataFrame(history.history)\n",
        "df_loss= df_loss_acc[['loss','val_loss']]\n",
        "df_loss.rename(columns={'loss':'train','val_loss':'validation'},inplace=True)\n",
        "df_loss.plot(title='Model loss',figsize=(12,8)).set(xlabel='Epoch',ylabel='Loss')"
      ],
      "metadata": {
        "colab": {
          "base_uri": "https://localhost:8080/",
          "height": 617
        },
        "id": "ccI4tq5qCLQN",
        "outputId": "927a654d-35d9-4ae1-dfbf-74d12cb842bd"
      },
      "execution_count": 79,
      "outputs": [
        {
          "output_type": "stream",
          "name": "stderr",
          "text": [
            "/usr/local/lib/python3.7/dist-packages/pandas/core/frame.py:5047: SettingWithCopyWarning: \n",
            "A value is trying to be set on a copy of a slice from a DataFrame\n",
            "\n",
            "See the caveats in the documentation: https://pandas.pydata.org/pandas-docs/stable/user_guide/indexing.html#returning-a-view-versus-a-copy\n",
            "  errors=errors,\n"
          ]
        },
        {
          "output_type": "execute_result",
          "data": {
            "text/plain": [
              "[Text(0, 0.5, 'Loss'), Text(0.5, 0, 'Epoch')]"
            ]
          },
          "metadata": {},
          "execution_count": 79
        },
        {
          "output_type": "display_data",
          "data": {
            "text/plain": [
              "<Figure size 864x576 with 1 Axes>"
            ],
            "image/png": "[encoded data removed]"
          },
          "metadata": {
            "needs_background": "light"
          }
        }
      ]
    },
    {
      "cell_type": "code",
      "source": [],
      "metadata": {
        "id": "M3qZsNpQIP1x"
      },
      "execution_count": null,
      "outputs": []
    }
  ]
}