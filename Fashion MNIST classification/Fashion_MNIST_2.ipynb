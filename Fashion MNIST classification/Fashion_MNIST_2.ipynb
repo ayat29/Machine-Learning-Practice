{
  "nbformat": 4,
  "nbformat_minor": 0,
  "metadata": {
    "colab": {
      "provenance": []
    },
    "kernelspec": {
      "name": "python3",
      "display_name": "Python 3"
    },
    "language_info": {
      "name": "python"
    }
  },
  "cells": [
    {
      "cell_type": "code",
      "execution_count": 1,
      "metadata": {
        "id": "6fo9Bt3fCfN8"
      },
      "outputs": [],
      "source": [
        "import tensorflow as tf \n",
        "import matplotlib.pyplot as plt \n",
        "import tensorflow.keras.layers as tfl\n",
        "import numpy as np\n",
        "import pandas as pd"
      ]
    },
    {
      "cell_type": "code",
      "source": [
        "(x_train, y_train), (x_test, y_test) = tf.keras.datasets.fashion_mnist.load_data()"
      ],
      "metadata": {
        "id": "hTa3Yd8KCgs-"
      },
      "execution_count": 2,
      "outputs": []
    },
    {
      "cell_type": "code",
      "source": [
        "training_images = x_train / 255.0\n",
        "test_images = x_test / 255.0"
      ],
      "metadata": {
        "id": "EcJgiXc-CiQx"
      },
      "execution_count": 4,
      "outputs": []
    },
    {
      "cell_type": "code",
      "source": [
        "Z0 = tf.keras.Input(shape = (28, 28, 1))\n",
        "Z1 = tfl.Conv2D(filters = 32, kernel_size = (3, 3), strides = (1, 1), padding = 'same')(Z0)\n",
        "A1 = tfl.ReLU()(Z1)\n",
        "DP1 = tfl.Dropout(0.25)(A1)\n",
        "P1 = tfl.MaxPool2D(pool_size = (2, 2))(DP1)\n",
        "\n",
        "\n",
        "Z2 = tfl.Conv2D(filters = 32, kernel_size = (3, 3), strides = (1, 1), padding = 'same')(P1)\n",
        "A2 = tfl.ReLU()(Z2)\n",
        "DP2 = tfl.Dropout(0.25)(A2)\n",
        "P2 = tfl.MaxPool2D(pool_size = (2, 2))(DP2)\n",
        "\n",
        "F = tfl.Flatten()(P2)\n",
        "D1 = tfl.Dense(units = 128, activation = 'relu')(F)\n",
        "outputs = tfl.Dense(units = 10, activation = 'softmax')(D1)\n",
        "\n",
        "model = tf.keras.Model(inputs = Z0, outputs = outputs)"
      ],
      "metadata": {
        "id": "Oft-j3iBCnj5"
      },
      "execution_count": 8,
      "outputs": []
    },
    {
      "cell_type": "code",
      "source": [
        "model.compile(optimizer='adam', loss='sparse_categorical_crossentropy', metrics=['accuracy'])\n",
        "\n",
        "model.fit(x_train, y_train, epochs=5)"
      ],
      "metadata": {
        "colab": {
          "base_uri": "https://localhost:8080/"
        },
        "id": "vVxE0YP5D6VR",
        "outputId": "029f086b-894c-4f69-a667-566f1fc22e0d"
      },
      "execution_count": 9,
      "outputs": [
        {
          "output_type": "stream",
          "name": "stdout",
          "text": [
            "Epoch 1/5\n",
            "1875/1875 [==============================] - 79s 42ms/step - loss: 0.7367 - accuracy: 0.8117\n",
            "Epoch 2/5\n",
            "1875/1875 [==============================] - 79s 42ms/step - loss: 0.3520 - accuracy: 0.8702\n",
            "Epoch 3/5\n",
            "1875/1875 [==============================] - 79s 42ms/step - loss: 0.3097 - accuracy: 0.8847\n",
            "Epoch 4/5\n",
            "1875/1875 [==============================] - 79s 42ms/step - loss: 0.2868 - accuracy: 0.8935\n",
            "Epoch 5/5\n",
            "1875/1875 [==============================] - 79s 42ms/step - loss: 0.2671 - accuracy: 0.9003\n"
          ]
        },
        {
          "output_type": "execute_result",
          "data": {
            "text/plain": [
              "<keras.callbacks.History at 0x7f228b343810>"
            ]
          },
          "metadata": {},
          "execution_count": 9
        }
      ]
    },
    {
      "cell_type": "code",
      "source": [
        "model.evaluate(x_test, y_test)"
      ],
      "metadata": {
        "colab": {
          "base_uri": "https://localhost:8080/"
        },
        "id": "KIcma_rhECX-",
        "outputId": "3a2cd7b6-f797-4130-d890-5df00ce296ec"
      },
      "execution_count": 10,
      "outputs": [
        {
          "output_type": "stream",
          "name": "stdout",
          "text": [
            "313/313 [==============================] - 3s 10ms/step - loss: 0.2886 - accuracy: 0.8946\n"
          ]
        },
        {
          "output_type": "execute_result",
          "data": {
            "text/plain": [
              "[0.28857675194740295, 0.894599974155426]"
            ]
          },
          "metadata": {},
          "execution_count": 10
        }
      ]
    },
    {
      "cell_type": "code",
      "source": [],
      "metadata": {
        "id": "-A9SeXt9FM9J"
      },
      "execution_count": null,
      "outputs": []
    }
  ]
}