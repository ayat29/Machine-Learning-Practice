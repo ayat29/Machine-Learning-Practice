{
  "nbformat": 4,
  "nbformat_minor": 0,
  "metadata": {
    "colab": {
      "provenance": []
    },
    "kernelspec": {
      "name": "python3",
      "display_name": "Python 3"
    },
    "language_info": {
      "name": "python"
    }
  },
  "cells": [
    {
      "cell_type": "code",
      "execution_count": 1,
      "metadata": {
        "colab": {
          "base_uri": "https://localhost:8080/"
        },
        "id": "V2xBRgOYu7KU",
        "outputId": "b07bbc7f-ac9f-4717-a6ab-3f3c2fc7ed06"
      },
      "outputs": [
        {
          "output_type": "stream",
          "name": "stdout",
          "text": [
            "Drive already mounted at /content/drive; to attempt to forcibly remount, call drive.mount(\"/content/drive\", force_remount=True).\n"
          ]
        }
      ],
      "source": [
        "import tensorflow as tf \n",
        "import numpy as np\n",
        "import matplotlib.pyplot as plt\n",
        "import tensorflow.keras.layers as tfl\n",
        "import pandas as pd\n",
        "from google.colab import drive \n",
        "drive.mount('/content/drive')"
      ]
    },
    {
      "cell_type": "code",
      "source": [
        "!mkdir -p \"/content/drive/My Drive/CIFAR10_models\""
      ],
      "metadata": {
        "id": "UuWr3B1PK-Ty"
      },
      "execution_count": 2,
      "outputs": []
    },
    {
      "cell_type": "code",
      "source": [
        "#Loading in dataset\n",
        "\n",
        "(x_train_orig, y_train), (x_test_orig, y_test) = tf.keras.datasets.cifar10.load_data()"
      ],
      "metadata": {
        "id": "290uCRhuvOlJ"
      },
      "execution_count": 3,
      "outputs": []
    },
    {
      "cell_type": "code",
      "source": [
        "#Dimensions of matrices\n",
        "\n",
        "print(\"X_train shape\", x_train_orig.shape)\n",
        "print(\"X_test shape\", x_test_orig.shape)\n",
        "print(\"y_train shape\", y_train.shape)\n",
        "print(\"y_test shape\", y_test.shape)"
      ],
      "metadata": {
        "colab": {
          "base_uri": "https://localhost:8080/"
        },
        "id": "15QwiuWuv_wq",
        "outputId": "e34c49af-897a-4dff-e0b6-f66d6cfae894"
      },
      "execution_count": 4,
      "outputs": [
        {
          "output_type": "stream",
          "name": "stdout",
          "text": [
            "X_train shape (50000, 32, 32, 3)\n",
            "X_test shape (10000, 32, 32, 3)\n",
            "y_train shape (50000, 1)\n",
            "y_test shape (10000, 1)\n"
          ]
        }
      ]
    },
    {
      "cell_type": "code",
      "source": [
        "#Normalizing the input\n",
        "\n",
        "x_train = x_train_orig / 255.\n",
        "x_test = x_test_orig / 255."
      ],
      "metadata": {
        "id": "e1QWBz7ZxEEt"
      },
      "execution_count": 5,
      "outputs": []
    },
    {
      "cell_type": "code",
      "source": [
        "#Looking at our data\n",
        "\n",
        "image_index = 1\n",
        "plt.imshow(x_train[image_index])"
      ],
      "metadata": {
        "colab": {
          "base_uri": "https://localhost:8080/",
          "height": 283
        },
        "id": "Zz6MoSZPxNmS",
        "outputId": "118b9302-a53f-40dd-e865-d47e75c6c883"
      },
      "execution_count": 6,
      "outputs": [
        {
          "output_type": "execute_result",
          "data": {
            "text/plain": [
              "<matplotlib.image.AxesImage at 0x7f2863833d50>"
            ]
          },
          "metadata": {},
          "execution_count": 6
        },
        {
          "output_type": "display_data",
          "data": {
            "text/plain": [
              "<Figure size 432x288 with 1 Axes>"
            ],
            "image/png": "[encoded data removed]"
          },
          "metadata": {
            "needs_background": "light"
          }
        }
      ]
    },
    {
      "cell_type": "code",
      "source": [
        "#Designing the neural network architecture \n",
        "\n",
        "def conv_model(input_shape):\n",
        "\n",
        "  Z0 = tf.keras.Input(shape = input_shape)\n",
        "  Z1 = tfl.Conv2D(filters = 32, kernel_size= (3, 3), strides = (1, 1), padding = 'same')(Z0)\n",
        "  A1 = tfl.ReLU()(Z1)\n",
        "  A1 = tfl.BatchNormalization()(A1)\n",
        "  Z1 = tfl.Conv2D(filters = 32, kernel_size= (3, 3), strides = (1, 1), padding = 'same')(A1)\n",
        "  A1 = tfl.ReLU()(Z1)\n",
        "  A1 = tfl.BatchNormalization()(A1)\n",
        "  A1 = tfl.Dropout(0.25)(A1)\n",
        "  P1 = tfl.MaxPool2D(pool_size = (2, 2))(A1)\n",
        "\n",
        "  Z2 = tfl.Conv2D(filters = 64, kernel_size= (3, 3), strides = (1, 1), padding = 'same')(P1)\n",
        "  A2 = tfl.ReLU()(Z2)\n",
        "  A2 = tfl.BatchNormalization()(A2)\n",
        "  Z2 = tfl.Conv2D(filters = 64, kernel_size= (3, 3), strides = (1, 1), padding = 'same')(A2)\n",
        "  A2 = tfl.ReLU()(Z2)\n",
        "  A2 = tfl.BatchNormalization()(A2)\n",
        "  A2 = tfl.Dropout(0.25)(A2)\n",
        "  P2 = tfl.MaxPool2D(pool_size = (2, 2))(A2)\n",
        "\n",
        "  Z3 = tfl.Conv2D(filters = 128, kernel_size= (3, 3), strides = (1, 1), padding = 'same')(P2)\n",
        "  A3 = tfl.ReLU()(Z3)\n",
        "  A3 = tfl.BatchNormalization()(A3)\n",
        "  Z3 = tfl.Conv2D(filters = 128, kernel_size= (3, 3), strides = (1, 1), padding = 'same')(A3)\n",
        "  A3 = tfl.ReLU()(Z3)\n",
        "  A3 = tfl.BatchNormalization()(A3)\n",
        "  A3 = tfl.Dropout(0.25)(A3)\n",
        "  P3 = tfl.MaxPool2D(pool_size = (2, 2))(A3)\n",
        "\n",
        "  F = tfl.Flatten()(P3)\n",
        "  D1 = tfl.Dense(units = 128, activation = 'relu')(F)\n",
        "  D1 = tfl.Dropout(0.5)(D1)\n",
        "  outputs = tfl.Dense(units = 10, activation = 'softmax')(D1)\n",
        "  model = tf.keras.Model(inputs = Z0, outputs = outputs)\n",
        "  return model\n",
        "                               "
      ],
      "metadata": {
        "id": "yL2IfipvxQX7"
      },
      "execution_count": 39,
      "outputs": []
    },
    {
      "cell_type": "code",
      "source": [
        "#Compiling the model \n",
        "\n",
        "model = conv_model((32, 32, 3))\n",
        "model.compile(optimizer = 'adam', loss = 'sparse_categorical_crossentropy', metrics = ['accuracy'])"
      ],
      "metadata": {
        "id": "PYcR4rpq08Gq"
      },
      "execution_count": 40,
      "outputs": []
    },
    {
      "cell_type": "code",
      "source": [
        "model.summary()"
      ],
      "metadata": {
        "colab": {
          "base_uri": "https://localhost:8080/"
        },
        "id": "CikzF1PSq0XS",
        "outputId": "ab9fd0b3-4e3c-4a04-ab90-8b612ad7fa34"
      },
      "execution_count": 41,
      "outputs": [
        {
          "output_type": "stream",
          "name": "stdout",
          "text": [
            "Model: \"model_7\"\n",
            "_________________________________________________________________\n",
            " Layer (type)                Output Shape              Param #   \n",
            "=================================================================\n",
            " input_9 (InputLayer)        [(None, 32, 32, 3)]       0         \n",
            "                                                                 \n",
            " conv2d_25 (Conv2D)          (None, 32, 32, 32)        896       \n",
            "                                                                 \n",
            " re_lu_25 (ReLU)             (None, 32, 32, 32)        0         \n",
            "                                                                 \n",
            " batch_normalization_25 (Bat  (None, 32, 32, 32)       128       \n",
            " chNormalization)                                                \n",
            "                                                                 \n",
            " conv2d_26 (Conv2D)          (None, 32, 32, 32)        9248      \n",
            "                                                                 \n",
            " re_lu_26 (ReLU)             (None, 32, 32, 32)        0         \n",
            "                                                                 \n",
            " batch_normalization_26 (Bat  (None, 32, 32, 32)       128       \n",
            " chNormalization)                                                \n",
            "                                                                 \n",
            " dropout_29 (Dropout)        (None, 32, 32, 32)        0         \n",
            "                                                                 \n",
            " max_pooling2d_22 (MaxPoolin  (None, 16, 16, 32)       0         \n",
            " g2D)                                                            \n",
            "                                                                 \n",
            " conv2d_27 (Conv2D)          (None, 16, 16, 64)        18496     \n",
            "                                                                 \n",
            " re_lu_27 (ReLU)             (None, 16, 16, 64)        0         \n",
            "                                                                 \n",
            " batch_normalization_27 (Bat  (None, 16, 16, 64)       256       \n",
            " chNormalization)                                                \n",
            "                                                                 \n",
            " conv2d_28 (Conv2D)          (None, 16, 16, 64)        36928     \n",
            "                                                                 \n",
            " re_lu_28 (ReLU)             (None, 16, 16, 64)        0         \n",
            "                                                                 \n",
            " batch_normalization_28 (Bat  (None, 16, 16, 64)       256       \n",
            " chNormalization)                                                \n",
            "                                                                 \n",
            " dropout_30 (Dropout)        (None, 16, 16, 64)        0         \n",
            "                                                                 \n",
            " max_pooling2d_23 (MaxPoolin  (None, 8, 8, 64)         0         \n",
            " g2D)                                                            \n",
            "                                                                 \n",
            " conv2d_29 (Conv2D)          (None, 8, 8, 128)         73856     \n",
            "                                                                 \n",
            " re_lu_29 (ReLU)             (None, 8, 8, 128)         0         \n",
            "                                                                 \n",
            " batch_normalization_29 (Bat  (None, 8, 8, 128)        512       \n",
            " chNormalization)                                                \n",
            "                                                                 \n",
            " conv2d_30 (Conv2D)          (None, 8, 8, 128)         147584    \n",
            "                                                                 \n",
            " re_lu_30 (ReLU)             (None, 8, 8, 128)         0         \n",
            "                                                                 \n",
            " batch_normalization_30 (Bat  (None, 8, 8, 128)        512       \n",
            " chNormalization)                                                \n",
            "                                                                 \n",
            " dropout_31 (Dropout)        (None, 8, 8, 128)         0         \n",
            "                                                                 \n",
            " max_pooling2d_24 (MaxPoolin  (None, 4, 4, 128)        0         \n",
            " g2D)                                                            \n",
            "                                                                 \n",
            " flatten_7 (Flatten)         (None, 2048)              0         \n",
            "                                                                 \n",
            " dense_14 (Dense)            (None, 128)               262272    \n",
            "                                                                 \n",
            " dropout_32 (Dropout)        (None, 128)               0         \n",
            "                                                                 \n",
            " dense_15 (Dense)            (None, 10)                1290      \n",
            "                                                                 \n",
            "=================================================================\n",
            "Total params: 552,362\n",
            "Trainable params: 551,466\n",
            "Non-trainable params: 896\n",
            "_________________________________________________________________\n"
          ]
        }
      ]
    },
    {
      "cell_type": "code",
      "source": [
        "#Training the model\n",
        "\n",
        "train_dataset = tf.data.Dataset.from_tensor_slices((x_train, y_train)).batch(32)\n",
        "test_dataset = tf.data.Dataset.from_tensor_slices((x_test, y_test)).batch(32)\n",
        "\n",
        "history = model.fit(train_dataset, epochs = 5, validation_data = test_dataset)"
      ],
      "metadata": {
        "colab": {
          "base_uri": "https://localhost:8080/"
        },
        "id": "twsn6fRx2G-O",
        "outputId": "d8244bc7-ba74-4e0c-87b4-859dabef261c"
      },
      "execution_count": null,
      "outputs": [
        {
          "output_type": "stream",
          "name": "stdout",
          "text": [
            "Epoch 1/10\n",
            "1563/1563 [==============================] - 451s 287ms/step - loss: 1.7885 - accuracy: 0.3306 - val_loss: 1.5812 - val_accuracy: 0.4635\n",
            "Epoch 2/10\n",
            "1563/1563 [==============================] - 455s 291ms/step - loss: 1.3443 - accuracy: 0.5120 - val_loss: 1.1117 - val_accuracy: 0.6326\n",
            "Epoch 3/10\n",
            "1563/1563 [==============================] - 454s 290ms/step - loss: 1.0904 - accuracy: 0.6229 - val_loss: 1.1467 - val_accuracy: 0.6538\n",
            "Epoch 4/10\n",
            "1563/1563 [==============================] - 451s 288ms/step - loss: 0.9412 - accuracy: 0.6834 - val_loss: 1.2086 - val_accuracy: 0.6685\n",
            "Epoch 5/10\n",
            "1563/1563 [==============================] - 452s 289ms/step - loss: 0.8340 - accuracy: 0.7209 - val_loss: 1.0493 - val_accuracy: 0.7118\n",
            "Epoch 6/10\n",
            "1563/1563 [==============================] - ETA: 0s - loss: 0.7382 - accuracy: 0.7574"
          ]
        }
      ]
    },
    {
      "cell_type": "code",
      "source": [
        "#model.save(\"/content/drive/My Drive/CIFAR10_models/Model_1.h5\")"
      ],
      "metadata": {
        "id": "YulY5wm3M9_l"
      },
      "execution_count": null,
      "outputs": []
    },
    {
      "cell_type": "code",
      "source": [
        "#Training statistics \n",
        "\n",
        "df_loss_acc = pd.DataFrame(history.history)\n",
        "df_loss= df_loss_acc[['loss','val_loss']]\n",
        "df_loss.rename(columns={'loss':'train','val_loss':'validation'},inplace=True)\n",
        "df_loss.plot(title='Model loss',figsize=(12,8)).set(xlabel='Epoch',ylabel='Loss')"
      ],
      "metadata": {
        "colab": {
          "base_uri": "https://localhost:8080/",
          "height": 617
        },
        "id": "5kt9Lh-u4CfK",
        "outputId": "e2fb128f-1a38-4b41-ab5e-8efcde5052b1"
      },
      "execution_count": 15,
      "outputs": [
        {
          "output_type": "stream",
          "name": "stderr",
          "text": [
            "/usr/local/lib/python3.7/dist-packages/pandas/core/frame.py:5047: SettingWithCopyWarning: \n",
            "A value is trying to be set on a copy of a slice from a DataFrame\n",
            "\n",
            "See the caveats in the documentation: https://pandas.pydata.org/pandas-docs/stable/user_guide/indexing.html#returning-a-view-versus-a-copy\n",
            "  errors=errors,\n"
          ]
        },
        {
          "output_type": "execute_result",
          "data": {
            "text/plain": [
              "[Text(0, 0.5, 'Loss'), Text(0.5, 0, 'Epoch')]"
            ]
          },
          "metadata": {},
          "execution_count": 15
        },
        {
          "output_type": "display_data",
          "data": {
            "text/plain": [
              "<Figure size 864x576 with 1 Axes>"
            ],
            "image/png": "[encoded data removed]"
          },
          "metadata": {
            "needs_background": "light"
          }
        }
      ]
    },
    {
      "cell_type": "code",
      "source": [],
      "metadata": {
        "id": "xe0sDtqu4NwI"
      },
      "execution_count": null,
      "outputs": []
    }
  ]
}